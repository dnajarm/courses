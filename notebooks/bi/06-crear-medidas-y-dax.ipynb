{
 "cells": [
  {
   "cell_type": "markdown",
   "metadata": {},
   "source": [
    "Toda fórmula DAX utilizada para nuestros análisis deben contar dos atributos:\n",
    "\n",
    "Robustez: Cuán Bien Manejan Errores.\n",
    "Claridad: Cuán fácil es poder entender la fórmula para un tercero, es decir, qué tan optimizada esta para su interpretación.\n",
    ".\n",
    "\n",
    "Para el segundo atributo, claridad, en el mundo de Power Pivot y el Lenguaje DAX se han ido estableciendo ciertas reglas que con el pasar del tiempo se vuelven cada vez mpas estándar y ya se entreve su caracter universal.\n",
    "\n",
    "Las mencionaré brevemente:\n",
    "\n",
    "REGLA 01: Siempre incluir un espacio después de un paréntesis.\n",
    "REGLA 02: Poner un espacio antes y después de un operador sin importar su categoría.\n",
    "REGLA 03: Si se tiene que dividir una expresión en múltiples líneas, poner el operador al principio de la nueva línea.\n",
    "REGLA 04: Una función que se ha divido en múltiples líneas debe siempre tener sus distintos argumentos en líneas diferentes.\n",
    "REGLA 05: Omitir espacio entre el nombre de la tabla y el nombre de la columna.\n",
    "REGLA 06: Utilizar las comillas simples cuando sea estrictamente necesario, es decir, cuando el nombre de una tabla contenga espacios.\n",
    "REGLA 07: Omitir el nombre de la tabla cuando se está haciendo referencia a una medida.\n",
    "REGLA 08: Poner un espacio después de un argumento si estos están en la misma línea. (Shift + Enter)\n",
    "REGLA 09: Siempre utilizar el nombre de las tablas cuando se haga referencia a una columna\n",
    "REGLA 10: Poner una función en la misa línea solamente si tiene un único argumento.\n",
    "REGLA 11: Si una función está escrita en más de una línea, utilice Tab para indexar, así mismo, los paréntesis de apertura y cierre deben estar alienados."
   ]
  }
 ],
 "metadata": {
  "kernelspec": {
   "display_name": "Python 3",
   "language": "python",
   "name": "python3"
  },
  "language_info": {
   "codemirror_mode": {
    "name": "ipython",
    "version": 3
   },
   "file_extension": ".py",
   "mimetype": "text/x-python",
   "name": "python",
   "nbconvert_exporter": "python",
   "pygments_lexer": "ipython3",
   "version": "3.7.6"
  }
 },
 "nbformat": 4,
 "nbformat_minor": 4
}
