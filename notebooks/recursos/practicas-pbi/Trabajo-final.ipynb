{
 "cells": [
  {
   "cell_type": "markdown",
   "metadata": {},
   "source": [
    "Laboratorio final\n",
    "==========================\n",
    "\n",
    "90 min | Última modificación: Enero 08, 2020."
   ]
  },
  {
   "cell_type": "markdown",
   "metadata": {},
   "source": [
    "## Obtención de datos\n",
    "\n",
    "* Seleccionar 1 caso de de la carpeta data.\n",
    "\n",
    "* Cargar los archivos de excel en PBI\n",
    "\n",
    "<video src=\"https://powerbicdn.azureedge.net/cvt-39a2cf59debacc57060619a1a298aa05681acc784e2356054eb9fbc90d103bf4/pictures/pages/desktop/content1-connect.mp4\" alt=\"Drawing\" style=\"width: 640px;\" controls>alternative text</video>\n",
    ">"
   ]
  },
  {
   "cell_type": "markdown",
   "metadata": {},
   "source": [
    "## Preparación de datos\n",
    "\n",
    "* De las tablas obtenidas en el paso anterior, realizar las respectiva limpieza y transformación de los datos para obtener los datos normalizados.\n",
    "\n",
    "<img src=\"https://docs.microsoft.com/es-es/power-bi/transform-model/media/desktop-query-overview/queryoverview_withdataconnection.png\">\n"
   ]
  },
  {
   "cell_type": "markdown",
   "metadata": {},
   "source": [
    "## Modelado de datos\n",
    "\n",
    "* De las tablas normalizadas del paso anterior, crear un modelo relacional identificando las respectivas llaves de cruce entre tablas.\n",
    "\n",
    "<img src=\"https://docs.microsoft.com/es-es/learn/modules/design-model-power-bi/media/01-example-data-model-01-ss.png#lightbox\">\n",
    "\n"
   ]
  },
  {
   "cell_type": "markdown",
   "metadata": {},
   "source": [
    "## Creación de medidas\n",
    "\n",
    "* Cree las respectivas medidas calculadas que permitan responder las preguntas de BI.\n",
    "\n",
    "<img src=\"https://docs.microsoft.com/es-es/power-bi/transform-model/media/desktop-tutorial-create-measures/meastut_netsales_newmeasure_formulabar.png\">\n",
    "\n",
    "\n"
   ]
  },
  {
   "cell_type": "markdown",
   "metadata": {},
   "source": [
    "## Visualización de datos\n",
    "\n",
    "* Cree las visualizaciones que ayuden a responder las preguntas de BI formuladas inicialmente, estás pueden ser gráficos, matrices y otras visualizaciones.\n",
    "\n",
    "<img src=\"https://mundoepm.files.wordpress.com/2015/02/arranging-and-resizing.gif\">\n"
   ]
  },
  {
   "cell_type": "markdown",
   "metadata": {},
   "source": [
    "## Generación de reportes\n",
    "\n",
    "* Dar estructura y formato a las visualizaciones, adicionando filtros, bookmarks y otras opciones que le darán vida al reporte.\n",
    "\n",
    "<img src=\"https://th.bing.com/th/id/R54728bf2d98b6ba0360bbadf0e416812?rik=E6KyPlRq%2bVoj8g&riu=http%3a%2f%2fblog.iwco.co%2fcontent%2fimages%2f2018%2f10%2fVisuales-seleccionados.gif&ehk=yNN7IcQEkrWB%2fWVk%2bjs%2fF3ov1ptKS58FUjusvhLfXIk%3d&risl=&pid=ImgRaw\">\n",
    "\n"
   ]
  },
  {
   "cell_type": "markdown",
   "metadata": {},
   "source": [
    "## Publicación del reporte\n",
    "\n",
    "* Publicar el reporte en el servicio de PBI y compartirlo mediante codigo QR con el grupo para que sea evaluado.\n",
    "\n",
    "<img src=\"https://powerbicdn.azureedge.net/mediahandler/blog/media/PowerBI/blog/7e4aa495-06c9-4fb4-9797-c367d46656b1.gif\">\n",
    "\n"
   ]
  },
  {
   "cell_type": "markdown",
   "metadata": {},
   "source": [
    "## Publicación del reporte (Plus)\n",
    "\n",
    "* Crear la versión mobile dará un bono en la nota\n",
    "\n",
    "<img src=\"https://powerbicdn.azureedge.net/cvt-19e870640b8833bdaf093a581487e3835ff179eb34e529b858a3b6ae3240ec70/pictures/pages/excel-and-power-bi/self-service_542x406.gif?637466987292785294\">"
   ]
  },
  {
   "cell_type": "markdown",
   "metadata": {},
   "source": [
    "## Responder las preguntas de BI\n",
    "\n",
    "* Responder las preguntas de BI\n",
    "\n",
    "<img src=\"https://uploads.toptal.io/blog/image/122609/toptal-blog-image-1490764828159-2a32d53dc9ebdd5ff9c5c9a01b3cde14.gif\">\n",
    "\n"
   ]
  },
  {
   "cell_type": "markdown",
   "metadata": {},
   "source": [
    "## Fin\n",
    "<img src=\"https://www.excelfreeblog.com/wp-content/uploads/2016/06/ali-esta.gif\" alt=\"Drawing\" style=\"width: 780px;\"/>"
   ]
  }
 ],
 "metadata": {
  "kernelspec": {
   "display_name": "Python 3",
   "language": "python",
   "name": "python3"
  },
  "language_info": {
   "codemirror_mode": {
    "name": "ipython",
    "version": 3
   },
   "file_extension": ".py",
   "mimetype": "text/x-python",
   "name": "python",
   "nbconvert_exporter": "python",
   "pygments_lexer": "ipython3",
   "version": "3.7.6"
  }
 },
 "nbformat": 4,
 "nbformat_minor": 4
}
